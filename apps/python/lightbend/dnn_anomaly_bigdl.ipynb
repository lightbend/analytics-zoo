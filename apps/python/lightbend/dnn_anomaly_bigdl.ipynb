{
 "cells": [
  {
   "cell_type": "code",
   "execution_count": 1,
   "metadata": {},
   "outputs": [],
   "source": [
    "from __future__ import division\n",
    "\n",
    "import math\n",
    "import pandas as pd\n",
    "import datetime as dt\n",
    "\n",
    "import matplotlib.pyplot as plt\n",
    "from scipy import stats\n",
    "import seaborn as sns\n",
    "from pylab import rcParams\n",
    "from sklearn.model_selection import train_test_split\n",
    "from sklearn import preprocessing\n",
    "from sklearn.metrics import mean_squared_error\n",
    "\n",
    "import numpy as np\n",
    "import time\n",
    "from numpy import arange, sin, pi, random\n",
    "\n",
    "from pyspark import SparkContext\n",
    "\n",
    "%matplotlib inline\n",
    "sns.set(style='whitegrid', palette='muted', font_scale=1.5)\n",
    "rcParams['figure.figsize'] = 14, 8\n",
    "RANDOM_SEED = 42\n",
    "LABELS = [\"Normal\", \"Anomaly\"]\n",
    "lookback = 3"
   ]
  },
  {
   "cell_type": "code",
   "execution_count": 2,
   "metadata": {},
   "outputs": [],
   "source": [
    "from bigdl.nn.layer import *\n",
    "from bigdl.nn.criterion import *\n",
    "from bigdl.optim.optimizer import *\n",
    "from bigdl.util import common\n",
    "from bigdl.util.common import *\n",
    "\n",
    "sc = SparkContext.getOrCreate(conf=create_spark_conf().setMaster(\"local[4]\").set(\"spark.driver.memory\",\"2g\"))\n",
    "init_engine()"
   ]
  },
  {
   "cell_type": "code",
   "execution_count": null,
   "metadata": {},
   "outputs": [],
   "source": [
    "import os\n",
    "      \n",
    "data_file_path = os.getenv(\"DATA_FILE_NAME\")\n",
    "generation_complete_file_path = os.getenv(\"GENERATION_COMPLETE_FILE_NAME\")\n",
    "model_pb_file_path = os.getenv(\"MODEL_PB_FILE_NAME\")\n",
    "model_attrib_file_path = os.getenv(\"MODEL_ATTRIB_FILE_NAME\")\n",
    "\n",
    "print(data_file_path)\n",
    "print(generation_complete_file_path)\n",
    "print(model_pb_file_path)\n",
    "print(model_attrib_file_path)"
   ]
  },
  {
   "cell_type": "markdown",
   "metadata": {},
   "source": [
    "## Read data from csv"
   ]
  },
  {
   "cell_type": "code",
   "execution_count": 3,
   "metadata": {},
   "outputs": [],
   "source": [
    "# df = pd.read_csv(\"data/CPU_examples.csv\")\n",
    "df = pd.read_csv(data_file_path)"
   ]
  },
  {
   "cell_type": "code",
   "execution_count": 4,
   "metadata": {},
   "outputs": [
    {
     "data": {
      "text/plain": [
       "(100001, 3)"
      ]
     },
     "execution_count": 4,
     "metadata": {},
     "output_type": "execute_result"
    }
   ],
   "source": [
    "df.shape"
   ]
  },
  {
   "cell_type": "code",
   "execution_count": 5,
   "metadata": {},
   "outputs": [
    {
     "data": {
      "text/html": [
       "<div>\n",
       "<style scoped>\n",
       "    .dataframe tbody tr th:only-of-type {\n",
       "        vertical-align: middle;\n",
       "    }\n",
       "\n",
       "    .dataframe tbody tr th {\n",
       "        vertical-align: top;\n",
       "    }\n",
       "\n",
       "    .dataframe thead th {\n",
       "        text-align: right;\n",
       "    }\n",
       "</style>\n",
       "<table border=\"1\" class=\"dataframe\">\n",
       "  <thead>\n",
       "    <tr style=\"text-align: right;\">\n",
       "      <th></th>\n",
       "      <th>Time</th>\n",
       "      <th>CPU</th>\n",
       "      <th>Class</th>\n",
       "    </tr>\n",
       "  </thead>\n",
       "  <tbody>\n",
       "    <tr>\n",
       "      <th>0</th>\n",
       "      <td>0</td>\n",
       "      <td>0.441271</td>\n",
       "      <td>0</td>\n",
       "    </tr>\n",
       "    <tr>\n",
       "      <th>1</th>\n",
       "      <td>1</td>\n",
       "      <td>0.400604</td>\n",
       "      <td>0</td>\n",
       "    </tr>\n",
       "    <tr>\n",
       "      <th>2</th>\n",
       "      <td>2</td>\n",
       "      <td>0.330440</td>\n",
       "      <td>0</td>\n",
       "    </tr>\n",
       "    <tr>\n",
       "      <th>3</th>\n",
       "      <td>3</td>\n",
       "      <td>0.227240</td>\n",
       "      <td>0</td>\n",
       "    </tr>\n",
       "    <tr>\n",
       "      <th>4</th>\n",
       "      <td>4</td>\n",
       "      <td>0.328483</td>\n",
       "      <td>0</td>\n",
       "    </tr>\n",
       "  </tbody>\n",
       "</table>\n",
       "</div>"
      ],
      "text/plain": [
       "   Time       CPU  Class\n",
       "0     0  0.441271      0\n",
       "1     1  0.400604      0\n",
       "2     2  0.330440      0\n",
       "3     3  0.227240      0\n",
       "4     4  0.328483      0"
      ]
     },
     "execution_count": 5,
     "metadata": {},
     "output_type": "execute_result"
    }
   ],
   "source": [
    "df.head()"
   ]
  },
  {
   "cell_type": "markdown",
   "metadata": {},
   "source": [
    "## Basic sanity check of data and normalization"
   ]
  },
  {
   "cell_type": "code",
   "execution_count": 6,
   "metadata": {},
   "outputs": [
    {
     "name": "stdout",
     "output_type": "stream",
     "text": [
      "[0.34964777]\n",
      "[0.18103937]\n"
     ]
    },
    {
     "data": {
      "text/html": [
       "<div>\n",
       "<style scoped>\n",
       "    .dataframe tbody tr th:only-of-type {\n",
       "        vertical-align: middle;\n",
       "    }\n",
       "\n",
       "    .dataframe tbody tr th {\n",
       "        vertical-align: top;\n",
       "    }\n",
       "\n",
       "    .dataframe thead th {\n",
       "        text-align: right;\n",
       "    }\n",
       "</style>\n",
       "<table border=\"1\" class=\"dataframe\">\n",
       "  <thead>\n",
       "    <tr style=\"text-align: right;\">\n",
       "      <th></th>\n",
       "      <th>Time</th>\n",
       "      <th>CPU</th>\n",
       "      <th>Class</th>\n",
       "    </tr>\n",
       "  </thead>\n",
       "  <tbody>\n",
       "    <tr>\n",
       "      <th>0</th>\n",
       "      <td>0</td>\n",
       "      <td>0.506097</td>\n",
       "      <td>0</td>\n",
       "    </tr>\n",
       "    <tr>\n",
       "      <th>1</th>\n",
       "      <td>1</td>\n",
       "      <td>0.281467</td>\n",
       "      <td>0</td>\n",
       "    </tr>\n",
       "    <tr>\n",
       "      <th>2</th>\n",
       "      <td>2</td>\n",
       "      <td>-0.106098</td>\n",
       "      <td>0</td>\n",
       "    </tr>\n",
       "    <tr>\n",
       "      <th>3</th>\n",
       "      <td>3</td>\n",
       "      <td>-0.676137</td>\n",
       "      <td>0</td>\n",
       "    </tr>\n",
       "    <tr>\n",
       "      <th>4</th>\n",
       "      <td>4</td>\n",
       "      <td>-0.116907</td>\n",
       "      <td>0</td>\n",
       "    </tr>\n",
       "  </tbody>\n",
       "</table>\n",
       "</div>"
      ],
      "text/plain": [
       "   Time       CPU  Class\n",
       "0     0  0.506097      0\n",
       "1     1  0.281467      0\n",
       "2     2 -0.106098      0\n",
       "3     3 -0.676137      0\n",
       "4     4 -0.116907      0"
      ]
     },
     "execution_count": 6,
     "metadata": {},
     "output_type": "execute_result"
    }
   ],
   "source": [
    "# check for null data\n",
    "df.isnull().values.any()\n",
    "\n",
    "# Standard scaling : mean 0, stddev 1\n",
    "scaler = preprocessing.StandardScaler()\n",
    "df['CPU'] = scaler.fit_transform(df['CPU'].values.reshape(-1, 1))\n",
    "\n",
    "scaler_mean = scaler.mean_\n",
    "scaler_var = scaler.var_ ** 0.5\n",
    "\n",
    "print(scaler_mean)  ## mean\n",
    "print(scaler_var)   ## std dev\n",
    "\n",
    "df.head()"
   ]
  },
  {
   "cell_type": "code",
   "execution_count": 7,
   "metadata": {},
   "outputs": [
    {
     "name": "stdout",
     "output_type": "stream",
     "text": [
      "<bound method Series.count of 0    83441\n",
      "1    16560\n",
      "Name: Class, dtype: int64>\n"
     ]
    },
    {
     "data": {
      "image/png": "[encoded data removed]",
      "text/plain": [
       "<Figure size 432x288 with 1 Axes>"
      ]
     },
     "metadata": {},
     "output_type": "display_data"
    }
   ],
   "source": [
    "# let's explore the distribution of input data\n",
    "count_classes = pd.value_counts(df['Class'], sort = False)\n",
    "print(count_classes.count)\n",
    "count_classes.plot(kind = 'bar', rot=0)\n",
    "plt.title(\"Transaction class distribution\")\n",
    "plt.xticks(range(2), LABELS)\n",
    "plt.xlabel(\"Class\")\n",
    "plt.ylabel(\"Frequency\");"
   ]
  },
  {
   "cell_type": "code",
   "execution_count": 8,
   "metadata": {},
   "outputs": [
    {
     "data": {
      "text/plain": [
       "(16560, 3)"
      ]
     },
     "execution_count": 8,
     "metadata": {},
     "output_type": "execute_result"
    }
   ],
   "source": [
    "# Just checking the relative counts\n",
    "anomaly = df[df.Class == 1]\n",
    "normal = df[df.Class == 0]\n",
    "\n",
    "anomaly.shape"
   ]
  },
  {
   "cell_type": "code",
   "execution_count": 9,
   "metadata": {},
   "outputs": [
    {
     "data": {
      "text/plain": [
       "(83441, 3)"
      ]
     },
     "execution_count": 9,
     "metadata": {},
     "output_type": "execute_result"
    }
   ],
   "source": [
    "normal.shape"
   ]
  },
  {
   "cell_type": "code",
   "execution_count": 10,
   "metadata": {},
   "outputs": [
    {
     "data": {
      "text/plain": [
       "count    16560.000000\n",
       "mean         1.381443\n",
       "std          0.547092\n",
       "min         -0.812502\n",
       "25%          1.013223\n",
       "50%          1.383492\n",
       "75%          1.751278\n",
       "max          3.658377\n",
       "Name: CPU, dtype: float64"
      ]
     },
     "execution_count": 10,
     "metadata": {},
     "output_type": "execute_result"
    }
   ],
   "source": [
    "anomaly.CPU.describe()"
   ]
  },
  {
   "cell_type": "code",
   "execution_count": 11,
   "metadata": {},
   "outputs": [
    {
     "data": {
      "text/plain": [
       "count    83441.000000\n",
       "mean        -0.274166\n",
       "std          0.827745\n",
       "min         -4.338766\n",
       "25%         -0.835627\n",
       "50%         -0.273015\n",
       "75%          0.287959\n",
       "max          3.306589\n",
       "Name: CPU, dtype: float64"
      ]
     },
     "execution_count": 11,
     "metadata": {},
     "output_type": "execute_result"
    }
   ],
   "source": [
    "normal.CPU.describe()"
   ]
  },
  {
   "cell_type": "markdown",
   "metadata": {},
   "source": [
    "## Any correlation between time and CPU metrics ?"
   ]
  },
  {
   "cell_type": "code",
   "execution_count": 12,
   "metadata": {},
   "outputs": [
    {
     "data": {
      "image/png": "[encoded data removed]",
      "text/plain": [
       "<Figure size 432x288 with 2 Axes>"
      ]
     },
     "metadata": {},
     "output_type": "display_data"
    }
   ],
   "source": [
    "f, (ax1, ax2) = plt.subplots(2, 1, sharex=True)\n",
    "f.suptitle('Time vs CPU by class')\n",
    "\n",
    "ax1.scatter(anomaly.Time, anomaly.CPU)\n",
    "ax1.set_title('Anomaly')\n",
    "\n",
    "ax2.scatter(normal.Time, normal.CPU)\n",
    "ax2.set_title('Normal')\n",
    "\n",
    "plt.xlabel('Time (in Seconds)')\n",
    "plt.ylabel('CPU')\n",
    "plt.show()"
   ]
  },
  {
   "cell_type": "markdown",
   "metadata": {},
   "source": [
    "## Feature Re-engineering"
   ]
  },
  {
   "cell_type": "code",
   "execution_count": 13,
   "metadata": {},
   "outputs": [],
   "source": [
    "def widenX(width, x) :\n",
    "    slicestart = 0\n",
    "    sliceend = width\n",
    "\n",
    "    X_data = []\n",
    "    newlength = x.size - width + 1\n",
    "    for i in range(newlength):\n",
    "        X_data.append(x[slicestart:sliceend])\n",
    "        slicestart = slicestart + 1\n",
    "        sliceend = sliceend + 1\n",
    "\n",
    "    return np.reshape(X_data, newshape=(newlength, width))\n",
    "\n",
    "def widenY(width, y):\n",
    "    return y[width-1:]"
   ]
  },
  {
   "cell_type": "code",
   "execution_count": 14,
   "metadata": {},
   "outputs": [
    {
     "data": {
      "text/plain": [
       "(16560, 3)"
      ]
     },
     "execution_count": 14,
     "metadata": {},
     "output_type": "execute_result"
    }
   ],
   "source": [
    "df.head()\n",
    "anomaly = df[df.Class == 1]\n",
    "anomaly.shape"
   ]
  },
  {
   "cell_type": "code",
   "execution_count": 15,
   "metadata": {},
   "outputs": [
    {
     "data": {
      "text/plain": [
       "(99999, 3)"
      ]
     },
     "execution_count": 15,
     "metadata": {},
     "output_type": "execute_result"
    }
   ],
   "source": [
    "X_train = widenX(lookback, df['CPU'])\n",
    "X_train.shape"
   ]
  },
  {
   "cell_type": "code",
   "execution_count": 16,
   "metadata": {},
   "outputs": [
    {
     "data": {
      "text/plain": [
       "(99999,)"
      ]
     },
     "execution_count": 16,
     "metadata": {},
     "output_type": "execute_result"
    }
   ],
   "source": [
    "Y_train = widenY(lookback, df['Class'])\n",
    "Y_train.shape"
   ]
  },
  {
   "cell_type": "code",
   "execution_count": 17,
   "metadata": {},
   "outputs": [
    {
     "name": "stdout",
     "output_type": "stream",
     "text": [
      "83439 16560\n"
     ]
    }
   ],
   "source": [
    "class_0 = list(filter(lambda x: x == 0.0, Y_train)) \n",
    "class_1 = list(filter(lambda x: x == 1.0, Y_train)) \n",
    "print(len(class_0), len(class_1))"
   ]
  },
  {
   "cell_type": "markdown",
   "metadata": {},
   "source": [
    "## Split into training and test set"
   ]
  },
  {
   "cell_type": "code",
   "execution_count": 18,
   "metadata": {},
   "outputs": [
    {
     "name": "stdout",
     "output_type": "stream",
     "text": [
      "79999\n",
      "20000\n",
      "(79999, 3)\n",
      "(19999, 3)\n"
     ]
    }
   ],
   "source": [
    "original_X_train_size = X_train.shape[0]\n",
    "train_set_size = int(0.8 * original_X_train_size)\n",
    "test_set_size = original_X_train_size - train_set_size\n",
    "\n",
    "X_test = X_train[original_X_train_size - test_set_size : -1]\n",
    "X_train = X_train[0 : train_set_size]\n",
    "\n",
    "Y_test = Y_train[original_X_train_size - test_set_size : -1]\n",
    "Y_train = Y_train[0 : train_set_size]\n",
    "\n",
    "print(int(train_set_size))\n",
    "print(int(test_set_size))\n",
    "print(X_train.shape)\n",
    "print(X_test.shape)"
   ]
  },
  {
   "cell_type": "code",
   "execution_count": 19,
   "metadata": {},
   "outputs": [
    {
     "data": {
      "text/plain": [
       "(79999, 3)"
      ]
     },
     "execution_count": 19,
     "metadata": {},
     "output_type": "execute_result"
    }
   ],
   "source": [
    "X_train.shape"
   ]
  },
  {
   "cell_type": "code",
   "execution_count": 20,
   "metadata": {},
   "outputs": [
    {
     "data": {
      "text/plain": [
       "(19999, 3)"
      ]
     },
     "execution_count": 20,
     "metadata": {},
     "output_type": "execute_result"
    }
   ],
   "source": [
    "X_test.shape"
   ]
  },
  {
   "cell_type": "markdown",
   "metadata": {},
   "source": [
    "In order to get data into BigDL engine we need to convert the numpy arrays into Spark RDD. Here's a helper function that does this. Note that we will use negative log likelihood for loss computation - hence based on the documentation of BigDL, the labels need to start from 1. Hence we add a 1 in the function below to all the labels."
   ]
  },
  {
   "cell_type": "code",
   "execution_count": 21,
   "metadata": {},
   "outputs": [],
   "source": [
    "def get_rdd_from_ndarray(sc):\n",
    "    rdd_X_train = sc.parallelize(X_train)\n",
    "    rdd_Y_train = sc.parallelize(Y_train)\n",
    "    rdd_X_test = sc.parallelize(X_test)\n",
    "    rdd_Y_test = sc.parallelize(Y_test)\n",
    "\n",
    "    rdd_train_sample = rdd_X_train.zip(rdd_Y_train).map(lambda labeledFeatures:\n",
    "                                       common.Sample.from_ndarray(labeledFeatures[0], labeledFeatures[1]+1))\n",
    "    rdd_test_sample = rdd_X_test.zip(rdd_Y_test).map(lambda labeledFeatures:\n",
    "                                     common.Sample.from_ndarray(labeledFeatures[0], labeledFeatures[1]+1))\n",
    "    return (rdd_train_sample, rdd_test_sample)\n",
    "\n",
    "(train_data, test_data) = get_rdd_from_ndarray(sc)"
   ]
  },
  {
   "cell_type": "markdown",
   "metadata": {},
   "source": [
    "# Build the Model"
   ]
  },
  {
   "cell_type": "code",
   "execution_count": 22,
   "metadata": {},
   "outputs": [
    {
     "name": "stdout",
     "output_type": "stream",
     "text": [
      "creating: createLinear\n",
      "creating: createReLU\n",
      "creating: createDropout\n",
      "creating: createLinear\n",
      "creating: createReLU\n",
      "creating: createDropout\n",
      "creating: createLinear\n",
      "creating: createReLU\n",
      "creating: createDropout\n",
      "creating: createLinear\n",
      "creating: createSoftMax\n",
      "creating: createModel\n"
     ]
    }
   ],
   "source": [
    "# create a graph model\n",
    "\n",
    "## input layer with relu and dropout\n",
    "initial = Linear(X_train.shape[1], 16).set_name(\"input\")()\n",
    "relu1 = ReLU()(initial)\n",
    "dropout1 = Dropout(0.3)(relu1)\n",
    "\n",
    "## first hidden layer with relu and dropout\n",
    "hidden1 = Linear(16, 32)(dropout1)\n",
    "relu2 = ReLU()(hidden1)\n",
    "dropout2 = Dropout(0.4)(relu2)\n",
    "\n",
    "## second hidden layer with relu and dropout\n",
    "hidden2 = Linear(32, 32)(dropout2)\n",
    "relu3 = ReLU()(hidden2)\n",
    "dropout3 = Dropout(0.4)(relu3)\n",
    "\n",
    "## output layer with softmax(2) and dropout\n",
    "output = Linear(32, 2)(dropout3)\n",
    "softmax = SoftMax().set_name(\"output\")(output)\n",
    "\n",
    "model = Model([initial], [softmax])"
   ]
  },
  {
   "cell_type": "markdown",
   "metadata": {},
   "source": [
    "## Optimize and Train"
   ]
  },
  {
   "cell_type": "code",
   "execution_count": 23,
   "metadata": {},
   "outputs": [
    {
     "name": "stdout",
     "output_type": "stream",
     "text": [
      "creating: createClassNLLCriterion\n",
      "creating: createAdam\n",
      "creating: createMaxEpoch\n",
      "creating: createDistriOptimizer\n",
      "creating: createEveryEpoch\n",
      "creating: createTop1Accuracy\n",
      "creating: createTrainSummary\n",
      "creating: createSeveralIteration\n",
      "creating: createValidationSummary\n",
      "saving logs to  anomaly-cpu-20180629-150119\n"
     ]
    }
   ],
   "source": [
    "learning_rate = 0.001\n",
    "training_epochs = 8\n",
    "batch_size = 256\n",
    "\n",
    "optimizer = Optimizer(\n",
    "    model = model,\n",
    "    training_rdd = train_data,\n",
    "    criterion = ClassNLLCriterion(),\n",
    "    optim_method = Adam(learningrate=learning_rate),\n",
    "    end_trigger = MaxEpoch(training_epochs),\n",
    "    batch_size = batch_size)\n",
    "\n",
    "# Set the validation logic\n",
    "optimizer.set_validation(\n",
    "    batch_size = batch_size,\n",
    "    val_rdd = test_data,\n",
    "    trigger = EveryEpoch(),\n",
    "    val_method = [Top1Accuracy()]\n",
    ")\n",
    "\n",
    "log_dir = 'mylogdir'\n",
    "\n",
    "app_name='anomaly-cpu-' + dt.datetime.now().strftime(\"%Y%m%d-%H%M%S\")\n",
    "train_summary = TrainSummary(log_dir=log_dir, app_name=app_name)\n",
    "train_summary.set_summary_trigger(\"Parameters\", SeveralIteration(50))\n",
    "val_summary = ValidationSummary(log_dir=log_dir, app_name=app_name)\n",
    "optimizer.set_train_summary(train_summary)\n",
    "optimizer.set_val_summary(val_summary)\n",
    "print(\"saving logs to \", app_name)"
   ]
  },
  {
   "cell_type": "code",
   "execution_count": 24,
   "metadata": {},
   "outputs": [
    {
     "name": "stdout",
     "output_type": "stream",
     "text": [
      "Optimization Done.\n",
      "CPU times: user 4.64 ms, sys: 2.26 ms, total: 6.9 ms\n",
      "Wall time: 34.7 s\n"
     ]
    }
   ],
   "source": [
    "%%time\n",
    "# Boot training process\n",
    "trained_model = optimizer.optimize()\n",
    "print(\"Optimization Done.\")"
   ]
  },
  {
   "cell_type": "code",
   "execution_count": 25,
   "metadata": {},
   "outputs": [
    {
     "data": {
      "image/png": "[encoded data removed]",
      "text/plain": [
       "<Figure size 864x864 with 2 Axes>"
      ]
     },
     "metadata": {},
     "output_type": "display_data"
    }
   ],
   "source": [
    "# model.save_tensorflow([(\"input\", [1, 3])], \"/tmp/model.pb\")\n",
    "model.save_tensorflow([(\"input\", [1, 3])], model_pb_file_path)\n",
    "\n",
    "loss = np.array(train_summary.read_scalar(\"Loss\"))\n",
    "top1 = np.array(val_summary.read_scalar(\"Top1Accuracy\"))\n",
    "\n",
    "plt.figure(figsize = (12,12))\n",
    "plt.subplot(2,1,1)\n",
    "plt.plot(loss[:,0],loss[:,1],label='loss')\n",
    "plt.xlim(0,loss.shape[0]+10)\n",
    "plt.grid(True)\n",
    "plt.title(\"loss\")\n",
    "plt.subplot(2,1,2)\n",
    "plt.plot(top1[:,0],top1[:,1],label='top1')\n",
    "plt.xlim(0,loss.shape[0]+10)\n",
    "plt.title(\"top1 accuracy\")\n",
    "plt.grid(True)\n"
   ]
  },
  {
   "cell_type": "markdown",
   "metadata": {},
   "source": [
    "# Predict on test set"
   ]
  },
  {
   "cell_type": "code",
   "execution_count": 26,
   "metadata": {},
   "outputs": [],
   "source": [
    "def map_predict_label(l):\n",
    "    return np.array(l).argmax()\n",
    "def map_groundtruth_label(l):\n",
    "    return int(l[0] - 1)"
   ]
  },
  {
   "cell_type": "code",
   "execution_count": 27,
   "metadata": {},
   "outputs": [],
   "source": [
    "predictions = trained_model.predict(test_data)"
   ]
  },
  {
   "cell_type": "code",
   "execution_count": 28,
   "metadata": {},
   "outputs": [
    {
     "name": "stdout",
     "output_type": "stream",
     "text": [
      "Ground Truth labels:\n",
      "0, 0, 0, 0, 0, 0, 0, 0, 0, 0, 0, 0, 0, 0, 0, 0, 0, 0, 0, 0, 0, 0, 0, 1, 1, 1, 1, 1, 1, 0, 0, 0, 0, 0, 0, 0, 0, 0, 0, 0, 0, 0, 0, 0, 0, 0, 0, 1, 1, 1\n",
      "Predicted labels:\n",
      "0, 0, 0, 0, 0, 0, 0, 0, 0, 0, 0, 0, 0, 0, 0, 0, 0, 0, 0, 0, 0, 0, 0, 0, 1, 1, 1, 1, 1, 0, 0, 0, 0, 0, 0, 0, 0, 0, 0, 0, 0, 0, 0, 0, 0, 0, 0, 0, 1, 1\n",
      "CPU times: user 11.4 ms, sys: 3.16 ms, total: 14.5 ms\n",
      "Wall time: 149 ms\n"
     ]
    }
   ],
   "source": [
    "%%time\n",
    "predictions = trained_model.predict(test_data)\n",
    "print('Ground Truth labels:')\n",
    "print(', '.join(str(map_groundtruth_label(s.label.to_ndarray())) for s in test_data.take(50)))\n",
    "print('Predicted labels:')\n",
    "print(', '.join(str(map_predict_label(s)) for s in predictions.take(50)))"
   ]
  },
  {
   "cell_type": "code",
   "execution_count": 29,
   "metadata": {},
   "outputs": [],
   "source": [
    "labels = [map_groundtruth_label(s.label.to_ndarray()) for s in test_data.take(20000)]\n",
    "df_prediction = pd.DataFrame({'Real Class' :np.array(labels)})\n",
    "predicted_labels = [map_predict_label(s) for s in predictions.take(20000)]\n",
    "df_prediction['Prediction'] = predicted_labels"
   ]
  },
  {
   "cell_type": "code",
   "execution_count": 30,
   "metadata": {},
   "outputs": [
    {
     "name": "stdout",
     "output_type": "stream",
     "text": [
      "19999\n",
      "2052\n",
      "89.73948697434871\n"
     ]
    }
   ],
   "source": [
    "total_size = X_test.shape[0]\n",
    "mismatch_size = df_prediction[ df_prediction['Real Class'] != df_prediction['Prediction'] ].size\n",
    "accuracy = ((total_size - mismatch_size) / total_size) * 100\n",
    "print(total_size)\n",
    "print(mismatch_size)\n",
    "print(accuracy)"
   ]
  },
  {
   "cell_type": "code",
   "execution_count": 31,
   "metadata": {},
   "outputs": [],
   "source": [
    "import datetime\n",
    "now = datetime.datetime.now()\n",
    "\n",
    "# with open(\"/tmp/model-attrib.properties\", \"w\") as fp:\n",
    "with open(model_attrib_file_path, \"w\") as fp:\n",
    "    fp.write(\"width=\" + str(lookback) + \"\\n\")\n",
    "    fp.write(\"mean=\" + str(scaler_mean[0]) + \"\\n\")\n",
    "    fp.write(\"std=\" + str(scaler_var[0]) + \"\\n\")\n",
    "    fp.write(\"input=input\\n\")\n",
    "    fp.write(\"output=output\\n\")\n",
    "    fp.write(\"generatedAt=\" + str(datetime.datetime.now()) + \"\\n\")"
   ]
  },
  {
   "cell_type": "code",
   "execution_count": null,
   "metadata": {},
   "outputs": [],
   "source": [
    "with open(generation_complete_file_path, \"w\") as fp:\n",
    "    fp.write(str(datetime.datetime.now()))"
   ]
  },
  {
   "cell_type": "markdown",
   "metadata": {},
   "source": [
    "## Predict on a new dataset"
   ]
  },
  {
   "cell_type": "code",
   "execution_count": 32,
   "metadata": {},
   "outputs": [
    {
     "name": "stdout",
     "output_type": "stream",
     "text": [
      "(49999, 3)\n"
     ]
    },
    {
     "data": {
      "text/plain": [
       "(8365, 3)"
      ]
     },
     "execution_count": 32,
     "metadata": {},
     "output_type": "execute_result"
    }
   ],
   "source": [
    "df = pd.read_csv(\"data/CPU_examples_test.csv\")\n",
    "\n",
    "## standardize and widen\n",
    "df['CPU'] = df['CPU'].apply(lambda x: (x - scaler_mean) / scaler_var)\n",
    "X_test = widenX(lookback, df['CPU'])\n",
    "Y_test = widenY(lookback, df['Class'])\n",
    "\n",
    "print(X_test.shape)\n",
    "anomaly = df[df.Class == 1]\n",
    "anomaly.shape"
   ]
  },
  {
   "cell_type": "code",
   "execution_count": 33,
   "metadata": {},
   "outputs": [],
   "source": [
    "def get_rdd_from_ndarray_test(sc):\n",
    "    rdd_X_test = sc.parallelize(X_test)\n",
    "    rdd_Y_test = sc.parallelize(Y_test)\n",
    "\n",
    "    rdd_test_sample = rdd_X_test.zip(rdd_Y_test).map(lambda labeledFeatures:\n",
    "                                     common.Sample.from_ndarray(labeledFeatures[0], labeledFeatures[1]+1))\n",
    "    return rdd_test_sample\n",
    "\n",
    "test_data = get_rdd_from_ndarray_test(sc)"
   ]
  },
  {
   "cell_type": "code",
   "execution_count": 34,
   "metadata": {},
   "outputs": [
    {
     "name": "stdout",
     "output_type": "stream",
     "text": [
      "Ground Truth labels:\n",
      "0, 0, 0, 1, 1, 1, 0, 0, 0, 0, 0, 0, 0, 0, 0, 0, 0, 0, 0, 0, 0, 0, 0, 0, 0, 0, 0, 0, 0, 0, 0, 0, 0, 0, 0, 0, 1, 1, 1, 0, 0, 0, 0, 0, 0, 0, 0, 0, 0, 0\n",
      "Predicted labels:\n",
      "0, 0, 0, 0, 1, 1, 0, 0, 0, 0, 0, 0, 0, 0, 0, 0, 0, 0, 0, 0, 0, 0, 0, 0, 0, 0, 0, 0, 0, 0, 0, 0, 0, 0, 0, 0, 1, 1, 1, 0, 0, 0, 0, 0, 0, 0, 0, 0, 0, 0\n",
      "CPU times: user 12 ms, sys: 3.02 ms, total: 15 ms\n",
      "Wall time: 146 ms\n"
     ]
    }
   ],
   "source": [
    "%%time\n",
    "predictions = trained_model.predict(test_data)\n",
    "print('Ground Truth labels:')\n",
    "print(', '.join(str(map_groundtruth_label(s.label.to_ndarray())) for s in test_data.take(50)))\n",
    "print('Predicted labels:')\n",
    "print(', '.join(str(map_predict_label(s)) for s in predictions.take(50)))"
   ]
  },
  {
   "cell_type": "code",
   "execution_count": 35,
   "metadata": {},
   "outputs": [],
   "source": [
    "labels = [map_groundtruth_label(s.label.to_ndarray()) for s in test_data.take(X_test.shape[0])]\n",
    "df_prediction = pd.DataFrame({'Real Class' :np.array(labels)})\n",
    "predicted_labels = [map_predict_label(s) for s in predictions.take(X_test.shape[0])]\n",
    "df_prediction['Prediction'] = predicted_labels"
   ]
  },
  {
   "cell_type": "code",
   "execution_count": 36,
   "metadata": {},
   "outputs": [
    {
     "name": "stdout",
     "output_type": "stream",
     "text": [
      "49999\n",
      "5332\n",
      "89.33578671573432\n"
     ]
    }
   ],
   "source": [
    "total_size = X_test.shape[0]\n",
    "mismatch_size = df_prediction[ df_prediction['Real Class'] != df_prediction['Prediction'] ].size\n",
    "accuracy = ((total_size - mismatch_size) / total_size) * 100\n",
    "print(total_size)\n",
    "print(mismatch_size)\n",
    "print(accuracy)"
   ]
  },
  {
   "cell_type": "code",
   "execution_count": null,
   "metadata": {},
   "outputs": [],
   "source": []
  }
 ],
 "metadata": {
  "kernelspec": {
   "display_name": "Python 3",
   "language": "python",
   "name": "python3"
  },
  "language_info": {
   "codemirror_mode": {
    "name": "ipython",
    "version": 3
   },
   "file_extension": ".py",
   "mimetype": "text/x-python",
   "name": "python",
   "nbconvert_exporter": "python",
   "pygments_lexer": "ipython3",
   "version": "3.6.4"
  }
 },
 "nbformat": 4,
 "nbformat_minor": 2
}
